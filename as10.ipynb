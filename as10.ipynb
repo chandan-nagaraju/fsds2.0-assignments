{
 "cells": [
  {
   "cell_type": "code",
   "execution_count": null,
   "metadata": {},
   "outputs": [],
   "source": [
    "1.\tWrite a Python program to find sum of elements in list?\n",
    "2.\tWrite a Python program to  Multiply all numbers in the list?\n",
    "3.\tWrite a Python program to find smallest number in a list?\n",
    "4.\tWrite a Python program to find largest number in a list?\n",
    "5.\tWrite a Python program to find second largest number in a list?\n",
    "6.\tWrite a Python program to find N largest elements from a list?\n",
    "7.\tWrite a Python program to print even numbers in a list?\n",
    "8.\tWrite a Python program to print odd numbers in a List?\n",
    "9.\tWrite a Python program to Remove empty List from List?\n",
    "10.\tWrite a Python program to Cloning or Copying a list?\n",
    "11.\tWrite a Python program to Count occurrences of an element in a list?\n"
   ]
  }
 ],
 "metadata": {
  "kernelspec": {
   "display_name": "Python 3.11.0 64-bit",
   "language": "python",
   "name": "python3"
  },
  "language_info": {
   "name": "python",
   "version": "3.11.0"
  },
  "orig_nbformat": 4,
  "vscode": {
   "interpreter": {
    "hash": "5238573367df39f7286bb46f9ff5f08f63a01a80960060ce41e3c79b190280fa"
   }
  }
 },
 "nbformat": 4,
 "nbformat_minor": 2
}
