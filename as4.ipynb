{
<<<<<<< HEAD
 "cells": [
  {
   "cell_type": "markdown",
   "metadata": {},
   "source": [
    "1.\tWrite a Python Program to Find the Factorial of a Number?\n"
   ]
  },
  {
   "cell_type": "code",
   "execution_count": 28,
   "metadata": {},
   "outputs": [],
   "source": [
    "def Factorial(x):\n",
    "    factorial=1\n",
    "    if x<0:\n",
    "        print(\"sorry, factorial does not exist for negative numbers\")\n",
    "    elif x==0:\n",
    "        print(\" the factorial of 0 is 1\")\n",
    "    else:\n",
    "        for i in range(1,x+1):\n",
    "            factorial *=i\n",
    "        print(\"the factorial of \", x, \"is \",factorial)"
   ]
  },
  {
   "cell_type": "code",
   "execution_count": null,
   "metadata": {},
   "outputs": [
    {
     "name": "stdout",
     "output_type": "stream",
     "text": [
      "the factorial of  3 is  6\n"
     ]
    }
   ],
   "source": [
    "Factorial(3)"
   ]
  },
  {
   "cell_type": "markdown",
   "metadata": {},
   "source": [
    "2.\tWrite a Python Program to Display the multiplication Table?\n",
    "\n"
   ]
  },
  {
   "cell_type": "code",
   "execution_count": null,
   "metadata": {},
   "outputs": [],
   "source": [
    "def tables(x):\n",
    "    for i in range(1,11):\n",
    "        print(x,'X',i,'=',x*i)"
   ]
  },
  {
   "cell_type": "code",
   "execution_count": null,
   "metadata": {},
   "outputs": [
    {
     "name": "stdout",
     "output_type": "stream",
     "text": [
      "8 X 1 = 8\n",
      "8 X 2 = 16\n",
      "8 X 3 = 24\n",
      "8 X 4 = 32\n",
      "8 X 5 = 40\n",
      "8 X 6 = 48\n",
      "8 X 7 = 56\n",
      "8 X 8 = 64\n",
      "8 X 9 = 72\n",
      "8 X 10 = 80\n"
     ]
    }
   ],
   "source": [
    "tables(8)"
   ]
  },
  {
   "cell_type": "code",
   "execution_count": null,
   "metadata": {},
   "outputs": [
    {
     "name": "stdout",
     "output_type": "stream",
     "text": [
      "9 X 1 = 9\n",
      "9 X 2 = 18\n",
      "9 X 3 = 27\n",
      "9 X 4 = 36\n",
      "9 X 5 = 45\n",
      "9 X 6 = 54\n",
      "9 X 7 = 63\n",
      "9 X 8 = 72\n",
      "9 X 9 = 81\n",
      "9 X 10 = 90\n"
     ]
    }
   ],
   "source": [
    "tables(9)"
   ]
  },
  {
   "cell_type": "markdown",
   "metadata": {},
   "source": [
    "3.\tWrite a Python Program to Print the Fibonacci sequence?\n"
   ]
  },
  {
   "cell_type": "code",
   "execution_count": 29,
   "metadata": {},
   "outputs": [],
   "source": [
    "def fibonacci(x):\n",
    "    x1,x2=0,1\n",
    "    y=0\n",
    "    if x<=0:\n",
    "        print(\"enter the +ve integer\")\n",
    "    elif x==1:\n",
    "        print(\"fibonacci series is\", x,\":\", x1)\n",
    "    else:\n",
    "        while y<x:\n",
    "            print(x1)\n",
    "            xth=x1+x2\n",
    "            x1=x2\n",
    "            x2=xth\n",
    "            y+=1\n",
    "\n"
   ]
  },
  {
   "cell_type": "code",
   "execution_count": null,
   "metadata": {},
   "outputs": [
    {
     "name": "stdout",
     "output_type": "stream",
     "text": [
      "0\n",
      "1\n",
      "1\n",
      "2\n",
      "3\n"
     ]
    }
   ],
   "source": [
    "fibonacci(5)"
   ]
  },
  {
   "cell_type": "code",
   "execution_count": null,
   "metadata": {},
   "outputs": [
    {
     "name": "stdout",
     "output_type": "stream",
     "text": [
      "0\n",
      "1\n",
      "1\n",
      "2\n",
      "3\n",
      "5\n",
      "8\n",
      "13\n",
      "21\n",
      "34\n"
     ]
    }
   ],
   "source": [
    "fibonacci(10)"
   ]
  },
  {
   "cell_type": "markdown",
   "metadata": {},
   "source": [
    "4.\tWrite a Python Program to Check Armstrong Number?\n"
   ]
  },
  {
   "cell_type": "code",
   "execution_count": 30,
   "metadata": {},
   "outputs": [],
   "source": [
    "def armstrong(x):\n",
    "    order=len(str(x))\n",
    "    sum=0\n",
    "    temp=x\n",
    "    while temp>0:\n",
    "        digit=temp%10\n",
    "        sum+=digit**order\n",
    "        temp//=10\n",
    "    if x==sum:\n",
    "        print(x,\"is a armstrong number\")\n",
    "    else:\n",
    "        print(x,\"is not a armstrong number\")\n"
   ]
  },
  {
   "cell_type": "code",
   "execution_count": 31,
   "metadata": {},
   "outputs": [
    {
     "name": "stdout",
     "output_type": "stream",
     "text": [
      "1997 is not a armstrong number\n"
     ]
    }
   ],
   "source": [
    "armstrong(1997)"
   ]
  },
  {
   "cell_type": "code",
   "execution_count": null,
   "metadata": {},
   "outputs": [
    {
     "name": "stdout",
     "output_type": "stream",
     "text": [
      "1998 is not a armstrong number\n"
     ]
    }
   ],
   "source": [
    "armstrong(1998)"
   ]
  },
  {
   "cell_type": "code",
   "execution_count": null,
   "metadata": {},
   "outputs": [
    {
     "name": "stdout",
     "output_type": "stream",
     "text": [
      "153 is a armstrong number\n"
     ]
    }
   ],
   "source": [
    "armstrong(153)"
   ]
  },
  {
   "cell_type": "markdown",
   "metadata": {},
   "source": [
    "5.\tWrite a Python Program to Find Armstrong Number in an Interval?\n"
   ]
  },
  {
   "cell_type": "code",
   "execution_count": 32,
   "metadata": {},
   "outputs": [],
   "source": [
    "def armstrong_interval(x,y):\n",
    "    for i in range(x,y+1):\n",
    "        order=len(str(i))\n",
    "        sum=0\n",
    "        temp=i\n",
    "        while temp >0:\n",
    "            digit=temp%10\n",
    "            sum+=digit**order\n",
    "            temp//=10\n",
    "        if i==sum:\n",
    "            print(i)\n",
    "\n",
    "        \n"
   ]
  },
  {
   "cell_type": "markdown",
   "metadata": {},
   "source": [
    "6.\tWrite a Python Program to Find the Sum of Natural Numbers?"
   ]
  },
  {
   "cell_type": "code",
   "execution_count": null,
   "metadata": {},
   "outputs": [],
   "source": []
  }
 ],
 "metadata": {
  "kernelspec": {
   "display_name": "Python 3.11.0 64-bit",
   "language": "python",
   "name": "python3"
  },
  "language_info": {
   "codemirror_mode": {
    "name": "ipython",
    "version": 3
   },
   "file_extension": ".py",
   "mimetype": "text/x-python",
   "name": "python",
   "nbconvert_exporter": "python",
   "pygments_lexer": "ipython3",
   "version": "3.11.0 (main, Oct 24 2022, 18:26:48) [MSC v.1933 64 bit (AMD64)]"
  },
  "orig_nbformat": 4,
  "vscode": {
   "interpreter": {
    "hash": "5238573367df39f7286bb46f9ff5f08f63a01a80960060ce41e3c79b190280fa"
   }
  }
 },
 "nbformat": 4,
 "nbformat_minor": 2
}
=======
  "cells": [
    {
      "cell_type": "markdown",
      "metadata": {
        "id": "view-in-github",
        "colab_type": "text"
      },
      "source": [
        "<a href=\"https://colab.research.google.com/github/chandan-nagaraju/fsds2.0-assignments/blob/main/as4.ipynb\" target=\"_parent\"><img src=\"https://colab.research.google.com/assets/colab-badge.svg\" alt=\"Open In Colab\"/></a>"
      ]
    },
    {
      "cell_type": "markdown",
      "metadata": {
        "id": "tK6TMdkZqKrW"
      },
      "source": [
        "1.\tWrite a Python Program to Find the Factorial of a Number?\n"
      ]
    },
    {
      "cell_type": "code",
      "execution_count": 1,
      "metadata": {
        "id": "vqnMRK0VqKrZ"
      },
      "outputs": [],
      "source": [
        "def Factorial(x):\n",
        "    factorial=1\n",
        "    if x<0:\n",
        "        print(\"sorry, factorial does not exist for negative numbers\")\n",
        "    elif x==0:\n",
        "        print(\" the factorial of 0 is 1\")\n",
        "    else:\n",
        "        for i in range(1,x+1):\n",
        "            factorial *=i\n",
        "        print(\"the factorial of \", x, \"is \",factorial)"
      ]
    },
    {
      "cell_type": "code",
      "execution_count": 2,
      "metadata": {
        "colab": {
          "base_uri": "https://localhost:8080/"
        },
        "id": "AILrMKOvqKra",
        "outputId": "095a42a0-78ed-40a5-842b-81e60a5f4bcf"
      },
      "outputs": [
        {
          "output_type": "stream",
          "name": "stdout",
          "text": [
            "the factorial of  3 is  6\n"
          ]
        }
      ],
      "source": [
        "Factorial(3)"
      ]
    },
    {
      "cell_type": "markdown",
      "metadata": {
        "id": "ppTTM7hBqKrb"
      },
      "source": [
        "2.\tWrite a Python Program to Display the multiplication Table?\n",
        "\n"
      ]
    },
    {
      "cell_type": "code",
      "execution_count": 3,
      "metadata": {
        "id": "BzmQcOxEqKrb"
      },
      "outputs": [],
      "source": [
        "def tables(x):\n",
        "    for i in range(1,11):\n",
        "        print(x,'X',i,'=',x*i)"
      ]
    },
    {
      "cell_type": "code",
      "execution_count": 4,
      "metadata": {
        "colab": {
          "base_uri": "https://localhost:8080/"
        },
        "id": "wmE1_tYZqKrb",
        "outputId": "b622271c-a47f-4c24-e7f6-b6fd289a1ae1"
      },
      "outputs": [
        {
          "output_type": "stream",
          "name": "stdout",
          "text": [
            "8 X 1 = 8\n",
            "8 X 2 = 16\n",
            "8 X 3 = 24\n",
            "8 X 4 = 32\n",
            "8 X 5 = 40\n",
            "8 X 6 = 48\n",
            "8 X 7 = 56\n",
            "8 X 8 = 64\n",
            "8 X 9 = 72\n",
            "8 X 10 = 80\n"
          ]
        }
      ],
      "source": [
        "tables(8)"
      ]
    },
    {
      "cell_type": "code",
      "execution_count": 5,
      "metadata": {
        "colab": {
          "base_uri": "https://localhost:8080/"
        },
        "id": "kcbYPm8GqKrc",
        "outputId": "33e409d2-4847-41d5-92f5-144facad05bf"
      },
      "outputs": [
        {
          "output_type": "stream",
          "name": "stdout",
          "text": [
            "9 X 1 = 9\n",
            "9 X 2 = 18\n",
            "9 X 3 = 27\n",
            "9 X 4 = 36\n",
            "9 X 5 = 45\n",
            "9 X 6 = 54\n",
            "9 X 7 = 63\n",
            "9 X 8 = 72\n",
            "9 X 9 = 81\n",
            "9 X 10 = 90\n"
          ]
        }
      ],
      "source": [
        "tables(9)"
      ]
    },
    {
      "cell_type": "markdown",
      "metadata": {
        "id": "_zQuHkPLqKrc"
      },
      "source": [
        "3.\tWrite a Python Program to Print the Fibonacci sequence?\n"
      ]
    },
    {
      "cell_type": "code",
      "execution_count": 6,
      "metadata": {
        "id": "xfHINumxqKrd"
      },
      "outputs": [],
      "source": [
        "def fibonacci(x):\n",
        "    x1,x2=0,1\n",
        "    y=0\n",
        "    if x<=0:\n",
        "        print(\"enter the +ve integer\")\n",
        "    elif x==1:\n",
        "        print(\"fibonacci series is\", x,\":\", x1)\n",
        "    else:\n",
        "        while y<x:\n",
        "            print(x1)\n",
        "            xth=x1+x2\n",
        "            x1=x2\n",
        "            x2=xth\n",
        "            y+=1\n",
        "\n"
      ]
    },
    {
      "cell_type": "code",
      "execution_count": 7,
      "metadata": {
        "colab": {
          "base_uri": "https://localhost:8080/"
        },
        "id": "d7OMqLBJqKrd",
        "outputId": "91ccb8bf-ad33-4145-de9e-62d5930c657a"
      },
      "outputs": [
        {
          "output_type": "stream",
          "name": "stdout",
          "text": [
            "0\n",
            "1\n",
            "1\n",
            "2\n",
            "3\n"
          ]
        }
      ],
      "source": [
        "fibonacci(5)"
      ]
    },
    {
      "cell_type": "code",
      "execution_count": 8,
      "metadata": {
        "colab": {
          "base_uri": "https://localhost:8080/"
        },
        "id": "D3rKhoo8qKrd",
        "outputId": "8a0fa55a-287b-4d7f-9948-842869999571"
      },
      "outputs": [
        {
          "output_type": "stream",
          "name": "stdout",
          "text": [
            "0\n",
            "1\n",
            "1\n",
            "2\n",
            "3\n",
            "5\n",
            "8\n",
            "13\n",
            "21\n",
            "34\n"
          ]
        }
      ],
      "source": [
        "fibonacci(10)"
      ]
    },
    {
      "cell_type": "markdown",
      "metadata": {
        "id": "yk5jbbdfqKrd"
      },
      "source": [
        "4.\tWrite a Python Program to Check Armstrong Number?\n"
      ]
    },
    {
      "cell_type": "code",
      "execution_count": 9,
      "metadata": {
        "id": "TYQSabz3qKre"
      },
      "outputs": [],
      "source": [
        "def armstrong(x):\n",
        "    order=len(str(x))\n",
        "    sum=0\n",
        "    temp=x\n",
        "    while temp>0:\n",
        "        digit=temp%10\n",
        "        sum+=digit**order\n",
        "        temp//=10\n",
        "    if x==sum:\n",
        "        print(x,\"is a armstrong number\")\n",
        "    else:\n",
        "        print(x,\"is not a armstrong number\")\n"
      ]
    },
    {
      "cell_type": "code",
      "execution_count": 10,
      "metadata": {
        "colab": {
          "base_uri": "https://localhost:8080/"
        },
        "id": "7KIEmZoFqKre",
        "outputId": "9c6792e2-b385-4b52-a4f6-0296da092029"
      },
      "outputs": [
        {
          "output_type": "stream",
          "name": "stdout",
          "text": [
            "1997 is not a armstrong number\n"
          ]
        }
      ],
      "source": [
        "armstrong(1997)"
      ]
    },
    {
      "cell_type": "code",
      "execution_count": 11,
      "metadata": {
        "colab": {
          "base_uri": "https://localhost:8080/"
        },
        "id": "CKKJ59nnqKre",
        "outputId": "826b2af5-f389-43c6-f35b-310929e2753d"
      },
      "outputs": [
        {
          "output_type": "stream",
          "name": "stdout",
          "text": [
            "1998 is not a armstrong number\n"
          ]
        }
      ],
      "source": [
        "armstrong(1998)"
      ]
    },
    {
      "cell_type": "code",
      "execution_count": 12,
      "metadata": {
        "colab": {
          "base_uri": "https://localhost:8080/"
        },
        "id": "4fni6ErrqKre",
        "outputId": "ca2b7708-e445-47b7-f8b4-8eae30282834"
      },
      "outputs": [
        {
          "output_type": "stream",
          "name": "stdout",
          "text": [
            "153 is a armstrong number\n"
          ]
        }
      ],
      "source": [
        "armstrong(153)"
      ]
    },
    {
      "cell_type": "markdown",
      "metadata": {
        "id": "q3Vn785TqKre"
      },
      "source": [
        "5.\tWrite a Python Program to Find Armstrong Number in an Interval?\n"
      ]
    },
    {
      "cell_type": "code",
      "execution_count": 13,
      "metadata": {
        "id": "1HNsx9JeqKrf"
      },
      "outputs": [],
      "source": [
        "def armstrong_interval(x,y):\n",
        "    for i in range(x,y+1):\n",
        "        order=len(str(i))\n",
        "        sum=0\n",
        "        temp=i\n",
        "        while temp >0:\n",
        "            digit=temp%10\n",
        "            sum+=digit**order\n",
        "            temp//=10\n",
        "        if i==sum:\n",
        "            print(i)\n",
        "        \n"
      ]
    },
    {
      "cell_type": "code",
      "source": [
        "armstrong_interval(150,2500)"
      ],
      "metadata": {
        "id": "MA9DtuWOsQUh",
        "colab": {
          "base_uri": "https://localhost:8080/"
        },
        "outputId": "fd156acd-d1b6-4578-eb16-1364cd577ba9"
      },
      "execution_count": 19,
      "outputs": [
        {
          "output_type": "stream",
          "name": "stdout",
          "text": [
            "153\n",
            "370\n",
            "371\n",
            "407\n",
            "1634\n"
          ]
        }
      ]
    },
    {
      "cell_type": "markdown",
      "metadata": {
        "id": "qyH2KauxqKrf"
      },
      "source": [
        "6.\tWrite a Python Program to Find the Sum of Natural Numbers?"
      ]
    },
    {
      "cell_type": "code",
      "execution_count": 22,
      "metadata": {
        "id": "w92WQeroqKrf"
      },
      "outputs": [],
      "source": [
        "def sum_of_natural(x):\n",
        "  sum=0\n",
        "  if x<0:\n",
        "    print(\"enter the +ve number\")\n",
        "  else:\n",
        "    sum=0\n",
        "    while x>0:\n",
        "      sum+=x\n",
        "      x-=1\n",
        "    print(\"the sum is:\",sum)"
      ]
    },
    {
      "cell_type": "code",
      "source": [
        "sum_of_natural(20)"
      ],
      "metadata": {
        "colab": {
          "base_uri": "https://localhost:8080/"
        },
        "id": "iMkUubCBuFAF",
        "outputId": "33fbd316-d223-4c0d-dc57-4b28442ae692"
      },
      "execution_count": 23,
      "outputs": [
        {
          "output_type": "stream",
          "name": "stdout",
          "text": [
            "the sum is: 210\n"
          ]
        }
      ]
    },
    {
      "cell_type": "code",
      "source": [],
      "metadata": {
        "id": "1uCmNyVmuH01"
      },
      "execution_count": null,
      "outputs": []
    }
  ],
  "metadata": {
    "kernelspec": {
      "display_name": "Python 3.11.0 64-bit",
      "language": "python",
      "name": "python3"
    },
    "language_info": {
      "codemirror_mode": {
        "name": "ipython",
        "version": 3
      },
      "file_extension": ".py",
      "mimetype": "text/x-python",
      "name": "python",
      "nbconvert_exporter": "python",
      "pygments_lexer": "ipython3",
      "version": "3.11.0"
    },
    "orig_nbformat": 4,
    "vscode": {
      "interpreter": {
        "hash": "5238573367df39f7286bb46f9ff5f08f63a01a80960060ce41e3c79b190280fa"
      }
    },
    "colab": {
      "provenance": [],
      "include_colab_link": true
    }
  },
  "nbformat": 4,
  "nbformat_minor": 0
}
>>>>>>> 85c7cd591f56d3a1a7273e3e06ce46a092b113f9
